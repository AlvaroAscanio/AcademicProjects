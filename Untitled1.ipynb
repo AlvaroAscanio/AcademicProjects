{
  "nbformat": 4,
  "nbformat_minor": 0,
  "metadata": {
    "colab": {
      "provenance": [],
      "authorship_tag": "ABX9TyNCKd8lSpez8INvrI6MRE1v",
      "include_colab_link": true
    },
    "kernelspec": {
      "name": "python3",
      "display_name": "Python 3"
    },
    "language_info": {
      "name": "python"
    }
  },
  "cells": [
    {
      "cell_type": "markdown",
      "metadata": {
        "id": "view-in-github",
        "colab_type": "text"
      },
      "source": [
        "<a href=\"https://colab.research.google.com/github/AlvaroAscanio/AcademicProjects/blob/main/Untitled1.ipynb\" target=\"_parent\"><img src=\"https://colab.research.google.com/assets/colab-badge.svg\" alt=\"Open In Colab\"/></a>"
      ]
    },
    {
      "cell_type": "code",
      "execution_count": null,
      "metadata": {
        "id": "ezf7uwTfvIil",
        "colab": {
          "base_uri": "https://localhost:8080/"
        },
        "outputId": "e3125848-7a48-416f-80f0-bd16ba8ab6ec"
      },
      "outputs": [
        {
          "name": "stdout",
          "output_type": "stream",
          "text": [
            "Ingrese numero de shots\n",
            "10\n"
          ]
        }
      ],
      "source": [
        "#Realizar un dataframe con los Shots vs Geofonos.\n",
        "import pandas as pd\n",
        "import numpy as np\n",
        "\n",
        "\n",
        "df_geometry= pd.DataFrame(columns=[\"sourcex\",\"sourcey\",\"geophone\"])\n",
        "\n",
        "print('Ingrese numero de shots')\n",
        "source=(0)\n",
        "shots= int(input())\n",
        "count= 0\n",
        "for x in range(0,shots):\n",
        "  count=count+2.5\n",
        "\n",
        "\n",
        "\n",
        "\n"
      ]
    }
  ]
}